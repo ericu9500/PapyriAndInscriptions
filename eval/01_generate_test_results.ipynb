{
 "cells": [
  {
   "cell_type": "markdown",
   "id": "b408a107-0f11-4ecc-828a-1fb2acbc2b6e",
   "metadata": {},
   "source": [
    "Test results for the 6 models with 45 beams is are already in \"results/\". To replicate eval scores based on these, see 02_compute_scores.ipynb. To repicate model output(GPUS with at least 45 MB memory necessary) run the following cells:"
   ]
  },
  {
   "cell_type": "code",
   "execution_count": null,
   "id": "c970e322-eabb-4665-854a-f7f7079e2b90",
   "metadata": {},
   "outputs": [],
   "source": [
    "!python scripts/dates.py dataset test_data/inscr_dates.jsonl --percentage 100 --output_folder results_replicated --num_beams 45 --model Ericu950/Epigr_1_Llama-3.1-8B-Instruct_date"
   ]
  },
  {
   "cell_type": "code",
   "execution_count": null,
   "id": "4c37de2b-f09e-4b70-ab07-047f0d895c04",
   "metadata": {},
   "outputs": [],
   "source": [
    "!python scripts/dates.py dataset test_data/pap_dates.jsonl --percentage 100 --output_folder results_replicated --num_beams 45 --model Ericu950/Papy_1_Llama-3.1-8B-Instruct_date"
   ]
  },
  {
   "cell_type": "code",
   "execution_count": null,
   "id": "801ed894-dcc9-452f-a101-c2a816395f5d",
   "metadata": {},
   "outputs": [],
   "source": [
    "!python scripts/places.py dataset test_data/inscr_places.jsonl --percentage 100 --output_folder results_replicated --num_beams 45 --model Ericu950/Epigr_1_Llama-3.1-8B-Instruct_place"
   ]
  },
  {
   "cell_type": "code",
   "execution_count": null,
   "id": "571f7c84-811b-48bb-98ca-5a48ad8217fa",
   "metadata": {},
   "outputs": [],
   "source": [
    "!python scripts/places.py dataset test_data/pap_places.jsonl --percentage 100 --output_folder results_replicated --num_beams 45 --model Ericu950/Papy_1_Llama-3.1-8B-Instruct_place"
   ]
  },
  {
   "cell_type": "code",
   "execution_count": null,
   "id": "c4500e6d-3420-405d-a59c-8b9468670437",
   "metadata": {},
   "outputs": [],
   "source": [
    "!python scripts/text.py dataset test_data/inscr_text.jsonl --percentage 100 --output_folder results_replicated --num_beams 45 --model Ericu950/Epigr_1_Llama-3.1-8B-Instruct_text"
   ]
  },
  {
   "cell_type": "code",
   "execution_count": null,
   "id": "585439a0-6972-4a4d-86bf-3d6f2d786473",
   "metadata": {},
   "outputs": [],
   "source": [
    "!python scripts/text.py dataset test_data/pap_text.jsonl --percentage 100 --output_folder results_replicated --num_beams 45 --model Ericu950/Papy_1_Llama-3.1-8B-Instruct_text"
   ]
  }
 ],
 "metadata": {
  "kernelspec": {
   "display_name": "latest",
   "language": "python",
   "name": "latest"
  },
  "language_info": {
   "codemirror_mode": {
    "name": "ipython",
    "version": 3
   },
   "file_extension": ".py",
   "mimetype": "text/x-python",
   "name": "python",
   "nbconvert_exporter": "python",
   "pygments_lexer": "ipython3",
   "version": "3.11.5"
  }
 },
 "nbformat": 4,
 "nbformat_minor": 5
}
